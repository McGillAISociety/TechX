{
 "cells": [
  {
   "cell_type": "markdown",
   "metadata": {},
   "source": [
    "# Assignment 7: Intro To Keras With Feed Forward NNs and Theory Recap"
   ]
  },
  {
   "cell_type": "markdown",
   "metadata": {},
   "source": [
    "### PART I - THEORY RECAP\n",
    "\n",
    "Answer the following review questions below. The questions are based off material seen in previous lectures/assignments, but some concepts were only briefly mentioned! If you can't find an answer from the lecture slides, a quick search online should be very helpful (i.e. always search online first before panicking :) )"
   ]
  },
  {
   "cell_type": "markdown",
   "metadata": {},
   "source": [
    "### 1 - Linear vs Polynomial Regression\n",
    "- Describe both Linear Regression and Polynomial Regression (3 lines or less each).\n",
    "\n",
    "- Describe overfitting vs underfitting with respect to parameters.  \n"
   ]
  },
  {
   "cell_type": "code",
   "execution_count": null,
   "metadata": {},
   "outputs": [],
   "source": [
    "### YOUR ANSWER HERE - YOUR MAY USE MARKDOWN, LATEX, CODE, DIAGRAMS, ETC"
   ]
  },
  {
   "cell_type": "markdown",
   "metadata": {
    "collapsed": true
   },
   "source": [
    "### 2 - Logistic Regression vs. Linear SVM\n",
    "- Describe how logistic regression works (3 lines or less)\n",
    "- Describe how linear SVM works. Mention the role(s) of:\n",
    "    - support vectors\n",
    "    - margin\n",
    "    - slack variables\n",
    "    - kernels\n",
    "- Plot an example for SVM where the linear kernel is not enough to separate the data, but another kernel works"
   ]
  },
  {
   "cell_type": "code",
   "execution_count": null,
   "metadata": {},
   "outputs": [],
   "source": [
    "## YOUR ANSWER HERE - YOUR MAY USE MARKDOWN, LATEX, CODE, DIAGRAMS, ETC"
   ]
  },
  {
   "cell_type": "markdown",
   "metadata": {},
   "source": [
    "### 3 - Linear SVM vs k-NN\n",
    "- K-Nearest Neighbours is a popular unsupervised learning algorithm. Explain the difference between supervised and unsupervised learning?\n",
    "- K-NN is an example of a lazy learning algorithm. Why is it called so. What could be a use case? Justify using a lazy learning algorithm in that case.\n",
    "- Outline the main steps for the KNN algorithm. Use text, code, plots, diagrams, etc as necessary.  \n",
    "- Plot a example dataset which works in an SVM classification and not k-NN classification. Repeat for the reverse scenario."
   ]
  },
  {
   "cell_type": "code",
   "execution_count": null,
   "metadata": {},
   "outputs": [],
   "source": [
    "## YOUR ANSWER HERE - YOUR MAY USE MARKDOWN, LATEX, CODE, DIAGRAMS, ETC"
   ]
  },
  {
   "cell_type": "markdown",
   "metadata": {},
   "source": [
    "### 5 - Ensemble Methods\n",
    "- Explain bagging and boosting. Clearly illustrate the difference between these methods. When would you use either one?\n",
    "- What is a decision tree? What is a random forest? Compare them and list 3 pros and cons of each?"
   ]
  },
  {
   "cell_type": "code",
   "execution_count": null,
   "metadata": {},
   "outputs": [],
   "source": [
    "## YOUR ANSWER HERE - YOUR MAY USE MARKDOWN, LATEX, CODE, DIAGRAMS, ETC"
   ]
  },
  {
   "cell_type": "markdown",
   "metadata": {},
   "source": [
    "### 6 - PCA\n",
    "- Describe how PCA achieves dimensionality reduction. Outline the main steps of the algorithm\n",
    "- What is the importance of eigenvectors and eigenvalues in the PCA algorithm above.\n",
    "- When we compute the covariance matrix in PCA, we have to subtract the mean. Why do we do this?"
   ]
  },
  {
   "cell_type": "code",
   "execution_count": null,
   "metadata": {},
   "outputs": [],
   "source": [
    "## YOUR ANSWER HERE - YOUR MAY USE MARKDOWN, LATEX, CODE, DIAGRAMS, ETC"
   ]
  },
  {
   "cell_type": "markdown",
   "metadata": {},
   "source": [
    "### PART II - FEED FORWARD NEURAL NETWORKS WITH KERAS\n",
    "\n",
    "In this section, we will be using the [Keras Deep Learning Library](https://keras.io/) to train a feed forward neural network. Please refer to class demo and documentation for instructions on how to use the library."
   ]
  },
  {
   "cell_type": "code",
   "execution_count": null,
   "metadata": {},
   "outputs": [],
   "source": [
    "# Import the following libraries\n",
    "%matplotlib inline\n",
    "\n",
    "from keras.utils import to_categorical\n",
    "from keras.models import Sequential\n",
    "from keras.layers import Dense\n",
    "from keras.datasets import mnist\n",
    "from keras.layers import Dropout\n",
    "import numpy as np\n",
    "import matplotlib.pyplot as plt"
   ]
  },
  {
   "cell_type": "markdown",
   "metadata": {},
   "source": [
    "#### 1 - Load Dataset\n",
    "We will be using the MNIST dataset which contains photos of handwritten digits. Keras already comes with this dataset, so we can load it directly with library functions as follows:"
   ]
  },
  {
   "cell_type": "code",
   "execution_count": null,
   "metadata": {
    "scrolled": true
   },
   "outputs": [],
   "source": [
    "# Load MNIST dataset\n",
    "(train_images, train_labels), (test_images, test_labels) = mnist.load_data()"
   ]
  },
  {
   "cell_type": "markdown",
   "metadata": {},
   "source": [
    "#### 2 - Inspect Data\n",
    "Start by inspecting the data. Write code to output the following: \n",
    "- The shape of the training data\n",
    "- The shape of the testing data\n",
    "- The total number of outputs\n",
    "- A lit of the output classes\n",
    "- Display the first image in the training data\n",
    "- Display the first image in the training data"
   ]
  },
  {
   "cell_type": "code",
   "execution_count": null,
   "metadata": {
    "scrolled": true
   },
   "outputs": [],
   "source": [
    "### ======== YOUR CODE HERE ========== ###\n",
    "\n",
    "# Print shape of training data\n",
    "print('Training data shape : <PRINT SHAPE HERE>')\n",
    " \n",
    "# Print shape of testing data    \n",
    "print('Testing data shape : <PRINT SHAPE HERE>')\n",
    " \n",
    "# Print the total number of outputs\n",
    "print('Total number of outputs : <PRINT NUMBER HERE>')\n",
    "\n",
    "# Print the list of output classes\n",
    "print('Output classes : <PRINT CLASSES HERE>')\n",
    " \n",
    "# Display the first image in the training data    \n",
    " \n",
    "# Display the first image in the testing data  "
   ]
  },
  {
   "cell_type": "markdown",
   "metadata": {},
   "source": [
    "#### 3 - Preprocess Data\n",
    "As usual, we need to preprocess our data. Write code to do the following:\n",
    "- Reshape the images from a 28x28 matrix to 784 flattend array (28x28=784), so it can be fed into the network as a single feature\n",
    "- Convert the datatype to 'float32' and then normalie the pixels so the values range between 0 and 1 (Hint: The current values range from 0 to 255)."
   ]
  },
  {
   "cell_type": "code",
   "execution_count": null,
   "metadata": {},
   "outputs": [],
   "source": [
    "### ======== YOUR CODE HERE ========== ###\n",
    "\n",
    "# Flatten the data to a 784 element array for both the train and test sets\n",
    "\n",
    "# Change to data type to float32\n",
    " \n",
    "# Normalize the data to a scale between 0 and 1"
   ]
  },
  {
   "cell_type": "markdown",
   "metadata": {},
   "source": [
    "#### 4 - Convert Labels \n",
    "Conver the labels from integer to categorical (one-hot encoding). We have to do this conversion, because that is the format required by Keras to perform multiclass classification. One-hot encoding converts the integer to an array of all zeros except a 1 at the index of the integer.\n",
    "\n",
    "For example, using a one-hot encoding for 10 classes, the integer 5 will be encoded as 0000010000"
   ]
  },
  {
   "cell_type": "code",
   "execution_count": null,
   "metadata": {
    "scrolled": true
   },
   "outputs": [],
   "source": [
    "### ======== YOUR CODE HERE ========== ###\n",
    "\n",
    "# Change the labels from integer to categorical data and store this in a new variable \n",
    "# (Hint: Use the to_categorical function in keras)\n",
    " \n",
    "# Display the original and converted labels the item in the dataset"
   ]
  },
  {
   "cell_type": "markdown",
   "metadata": {},
   "source": [
    "#### 5 - Create model\n",
    "\n",
    "Create a sequential model with the following architecture:\n",
    "- an input dense layer of 512 units using the ReLU activation function, with input dimension of 784\n",
    "- a dense layer of 512 units with the ReLU activation function\n",
    "- a output layer of 10 units with the softmax activation function (output layer)"
   ]
  },
  {
   "cell_type": "code",
   "execution_count": null,
   "metadata": {},
   "outputs": [],
   "source": [
    "### ======== YOUR CODE HERE ========== ###\n",
    "\n",
    "# Create sequential model"
   ]
  },
  {
   "cell_type": "markdown",
   "metadata": {},
   "source": [
    "#### 6 - Compile Model\n",
    "\n",
    "Compile the model with an **rmsprop optimizer, categorical_crossentropy loss, and accuracy metrics**. You can try other optimizers too such as sgd."
   ]
  },
  {
   "cell_type": "code",
   "execution_count": null,
   "metadata": {},
   "outputs": [],
   "source": [
    "### ======== YOUR CODE HERE ========== ###\n",
    "\n",
    "# Compile model"
   ]
  },
  {
   "cell_type": "markdown",
   "metadata": {},
   "source": [
    "#### 7 - Train model\n",
    "Fit the model and train for **20 epochs** and a **batch size of 256**."
   ]
  },
  {
   "cell_type": "code",
   "execution_count": null,
   "metadata": {},
   "outputs": [],
   "source": [
    "### ======== YOUR CODE HERE ========== ###\n",
    "\n",
    "# Train model"
   ]
  },
  {
   "cell_type": "markdown",
   "metadata": {},
   "source": [
    "#### 8 - Evaluate model\n",
    "Report the loss and accuracy on the test data. (Hint: Use the built in *model.evaluate* function in keras)"
   ]
  },
  {
   "cell_type": "code",
   "execution_count": null,
   "metadata": {},
   "outputs": [],
   "source": [
    "### ======== YOUR CODE HERE ========== ###\n",
    "\n",
    "# Report loss and accuracy on test data"
   ]
  },
  {
   "cell_type": "markdown",
   "metadata": {},
   "source": [
    "#### 9 - Plot results\n",
    "- Plot the loss curves for both training and validation\n",
    "- Plot the accuracy curves for both training and validation\n",
    "\n",
    "Hint: Use the *.history* function to access these results."
   ]
  },
  {
   "cell_type": "code",
   "execution_count": null,
   "metadata": {},
   "outputs": [],
   "source": [
    "### ======== YOUR CODE HERE ========== ###\n",
    "\n",
    "# Plot the Loss Curves\n",
    " \n",
    "# Plot the Accuracy Curves"
   ]
  },
  {
   "cell_type": "markdown",
   "metadata": {},
   "source": [
    "#### 10 - Regularization\n",
    "If done properly, you will notice there is some overfitting in the model. To overcome this, we will use a regularization method called **dropout** which you will learn in the CNN lecture. This requires simply adding dropout layers into our model. To do so, repeat steps 5-8 with the following architecture.\n",
    "- an input dense layer of 512 units using the ReLU activation function, with input dimension of 784\n",
    "- a dropout layer with 0.5 dropout rate\n",
    "- a dense layer of 512 units with the ReLU activation function\n",
    "- a dropout layer with 0.5 dropout rate\n",
    "- a output layer of 10 units with the softmax activation function (output layer)"
   ]
  },
  {
   "cell_type": "code",
   "execution_count": null,
   "metadata": {},
   "outputs": [],
   "source": [
    "### ======== YOUR CODE HERE ========== ###\n",
    "\n",
    "# Repeat step 5 with new architecture\n",
    "\n",
    "# Repeat step 6 with new model\n",
    "\n",
    "# Repeat step 7 with new model\n",
    "\n",
    "# Repeat step 8 with new model\n",
    "\n",
    "# Repeat step 9 with new model"
   ]
  },
  {
   "cell_type": "markdown",
   "metadata": {},
   "source": [
    "#### BONUS QUESTION - Modified MNIST\n",
    "The modified MNIST dataset consists of images that contain multiple written digits with background noise. The labels for this dataset is the largest digit contained in the image. Your challenge will be to train a feed forward network to predict these labels. You can follow the same steps as in this assignment to create the feed forward neural network, but you will likely have to experiment with different data preprocessing techniques and network structures. You will also need to load the dataset yourself and put it into a form that is acceptable by keras.\n",
    "\n",
    "The dataset can be downloaded from (https://techx.blob.core.windows.net/modified-mnist/modified-mnist.zip)[here]."
   ]
  }
 ],
 "metadata": {
  "kernelspec": {
   "display_name": "Python 3",
   "language": "python",
   "name": "python3"
  },
  "language_info": {
   "codemirror_mode": {
    "name": "ipython",
    "version": 3
   },
   "file_extension": ".py",
   "mimetype": "text/x-python",
   "name": "python",
   "nbconvert_exporter": "python",
   "pygments_lexer": "ipython3",
   "version": "3.5.5"
  }
 },
 "nbformat": 4,
 "nbformat_minor": 2
}
