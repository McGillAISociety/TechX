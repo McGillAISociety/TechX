{
 "cells": [
  {
   "cell_type": "markdown",
   "metadata": {},
   "source": [
    "# TechX - Machine Learning Course \n",
    "\n",
    "## Assignment 1 - Python and NumPy"
   ]
  },
  {
   "cell_type": "markdown",
   "metadata": {},
   "source": [
    "This is an introductory assignment to the course. Two fundamental skills that every data scientist must have are math and python. Make sure that you are able to do all of the following questions. If you have trouble, please make sure to ask for help from either the ALs or the mentors. "
   ]
  },
  {
   "cell_type": "code",
   "execution_count": null,
   "metadata": {},
   "outputs": [],
   "source": [
    "def test_function(function, test_cases, test_cases_answers):\n",
    "    \"\"\"Runs function through test cases\"\"\"\n",
    "    passed = True\n",
    "    \n",
    "    for (case, answer) in zip(test_cases, test_cases_answers):\n",
    "        output = function(case)\n",
    "        if output != answer: \n",
    "            print('Your output: ', output, '\\t Expected output: ', answer)\n",
    "            passed = False\n",
    "    \n",
    "    if passed: \n",
    "        print('Test passed.')\n",
    "    else: \n",
    "        print('Test failed.')"
   ]
  },
  {
   "cell_type": "markdown",
   "metadata": {},
   "source": [
    "## Functions"
   ]
  },
  {
   "cell_type": "markdown",
   "metadata": {},
   "source": [
    "###### 1) Write a function that calculates the average of an array in an iterative way"
   ]
  },
  {
   "cell_type": "code",
   "execution_count": null,
   "metadata": {},
   "outputs": [],
   "source": [
    "def average(array):\n",
    "    \"\"\" Calculates the average of array. Returns average float\"\"\"\n",
    "    \n",
    "    #=============== YOUR CODE HERE ==================="
   ]
  },
  {
   "cell_type": "markdown",
   "metadata": {},
   "source": [
    "Run the next cell to test your function."
   ]
  },
  {
   "cell_type": "code",
   "execution_count": null,
   "metadata": {},
   "outputs": [],
   "source": [
    "test_cases_average = [[1, 1, 1, 1, 1, 1, 1, 1, 1],\n",
    "              [1, 2, 3, 4, 5, 6, 7, 8, 9, 10],\n",
    "              [0.21780088, 0.4118428,  0.62573827, 0.78184048, 0.96162729, 0.21242742, 0.06843751, 0.70688805, 0.98459559, 0.1153083 ]]\n",
    "\n",
    "test_cases_answers_average = [1, 5.5, 0.508650659]\n",
    "\n",
    "test_function(average, test_cases_average, test_cases_answers_average)"
   ]
  },
  {
   "cell_type": "markdown",
   "metadata": {},
   "source": [
    "### Indexing, Slicing and Iterating"
   ]
  },
  {
   "cell_type": "markdown",
   "metadata": {},
   "source": [
    "###### 2) Extract the username of these emails. Beware, there may be different domains! You want to return the String before '@'.\n",
    "\n",
    "Example: <br>\n",
    "<b>input:</b> 'john.smith@qq.com' <br>\n",
    "<b>return:</b>'john.smith'\n",
    "\n",
    "<b>input:</b> 'jennifer@outlook.com' <br>\n",
    "<b>return:</b>'jennifer' "
   ]
  },
  {
   "cell_type": "code",
   "execution_count": null,
   "metadata": {},
   "outputs": [],
   "source": [
    "def extract_username(email): \n",
    "    \"\"\"Extracts the username from the input email address. Return username String\"\"\"\n",
    "    \n",
    "    #=============== YOUR CODE HERE ==================="
   ]
  },
  {
   "cell_type": "markdown",
   "metadata": {},
   "source": [
    "Run the next cell to test your function."
   ]
  },
  {
   "cell_type": "code",
   "execution_count": null,
   "metadata": {},
   "outputs": [],
   "source": [
    "test_cases_extract_username = ['john-smith@gmail.com',\n",
    "              'this.is.the.username@abcdefghijklmnopqrstuvwxyz',\n",
    "              'invalid-email']\n",
    "\n",
    "test_cases_answers_extract_username = ['john-smith', 'this.is.the.username', 'invalid-email']\n",
    "\n",
    "test_function(extract_username, test_cases_extract_username, test_cases_answers_extract_username) "
   ]
  },
  {
   "cell_type": "markdown",
   "metadata": {},
   "source": [
    "<hr>"
   ]
  },
  {
   "cell_type": "markdown",
   "metadata": {},
   "source": [
    "### Complete the following questions using ONLY NumPy"
   ]
  },
  {
   "cell_type": "markdown",
   "metadata": {},
   "source": [
    "### Linear algebra operations "
   ]
  },
  {
   "cell_type": "markdown",
   "metadata": {},
   "source": [
    "###### 3) Import NumPy Library into your Python environment"
   ]
  },
  {
   "cell_type": "code",
   "execution_count": null,
   "metadata": {},
   "outputs": [],
   "source": [
    "#=============== YOUR CODE HERE ==================="
   ]
  },
  {
   "cell_type": "markdown",
   "metadata": {},
   "source": [
    "###### 4) Create a 10 element vector, x, of random integers between 10 and 15 (inclusive).  "
   ]
  },
  {
   "cell_type": "code",
   "execution_count": null,
   "metadata": {},
   "outputs": [],
   "source": [
    "x = # YOUR CODE HERE\n",
    "print(x)"
   ]
  },
  {
   "cell_type": "markdown",
   "metadata": {},
   "source": [
    "###### q) Print out the max value of the array. "
   ]
  },
  {
   "cell_type": "markdown",
   "metadata": {},
   "source": [
    "###### q) Print out the position of the max value of the array. "
   ]
  },
  {
   "cell_type": "markdown",
   "metadata": {},
   "source": [
    "###### 5) Create a 10 element vector, y, of 1.  "
   ]
  },
  {
   "cell_type": "code",
   "execution_count": null,
   "metadata": {},
   "outputs": [],
   "source": [
    "y = # YOUR CODE HERE\n",
    "print(y)"
   ]
  },
  {
   "cell_type": "markdown",
   "metadata": {},
   "source": [
    "###### 6) Add x and y together"
   ]
  },
  {
   "cell_type": "code",
   "execution_count": null,
   "metadata": {},
   "outputs": [],
   "source": [
    "answer = # YOUR CODE HERE\n",
    "print(answer)"
   ]
  },
  {
   "cell_type": "markdown",
   "metadata": {},
   "source": [
    "###### 7) Convert the following matrix into a numpy array. "
   ]
  },
  {
   "cell_type": "markdown",
   "metadata": {},
   "source": [
    "$\\begin{bmatrix}\n",
    "5 & 10 & 15\\\\ \n",
    "2 &  13 & 23\n",
    "\\end{bmatrix}$"
   ]
  },
  {
   "cell_type": "code",
   "execution_count": null,
   "metadata": {},
   "outputs": [],
   "source": [
    "matrix = # YOUR CODE HERE\n",
    "\n",
    "print(matrix)"
   ]
  },
  {
   "cell_type": "markdown",
   "metadata": {},
   "source": [
    "###### 8) Transpose the matrix. You should get "
   ]
  },
  {
   "cell_type": "markdown",
   "metadata": {},
   "source": [
    "$\\begin{bmatrix}\n",
    "5 & 2 \\\\\n",
    "10 & 13 \\\\\n",
    "15 & 23 \\\\\n",
    "\\end{bmatrix}$"
   ]
  },
  {
   "cell_type": "code",
   "execution_count": null,
   "metadata": {},
   "outputs": [],
   "source": [
    "matrix_T = # YOUR CODE HERE\n",
    "print(matrix_T)"
   ]
  },
  {
   "cell_type": "markdown",
   "metadata": {},
   "source": [
    "###### 9) Multiply matrix and matrix_T together. You should get "
   ]
  },
  {
   "cell_type": "markdown",
   "metadata": {},
   "source": [
    "$\\begin{bmatrix}\n",
    "350 & 485 \\\\\n",
    "485 & 702 \n",
    "\\end{bmatrix}$"
   ]
  },
  {
   "cell_type": "code",
   "execution_count": null,
   "metadata": {},
   "outputs": [],
   "source": [
    "matrix_square = # YOUR CODE HERE\n",
    "print(matrix_square)"
   ]
  },
  {
   "cell_type": "markdown",
   "metadata": {},
   "source": [
    "###### q) Print out the determinant of the squared matrix. "
   ]
  },
  {
   "cell_type": "code",
   "execution_count": null,
   "metadata": {},
   "outputs": [],
   "source": [
    "det = # YOUR CODE HERE\n",
    "print(det)"
   ]
  },
  {
   "cell_type": "markdown",
   "metadata": {},
   "source": [
    "###### q) Print out the inverse matrix. "
   ]
  },
  {
   "cell_type": "code",
   "execution_count": null,
   "metadata": {},
   "outputs": [],
   "source": [
    "inv = # YOUR CODE HERE\n",
    "print(inv)"
   ]
  },
  {
   "cell_type": "markdown",
   "metadata": {},
   "source": [
    "###### q) Print out the eigenvectors and the eigenvalues of the squared matrix. "
   ]
  },
  {
   "cell_type": "code",
   "execution_count": null,
   "metadata": {},
   "outputs": [],
   "source": [
    "eigenvalues ,eigenvectors = # YOUR CODE HERE\n",
    "print('eigenvalues: ', eigenvalues)\n",
    "print('eigenvectors: ', eigenvectors)"
   ]
  },
  {
   "cell_type": "markdown",
   "metadata": {},
   "source": [
    "###### q) Check if the eigen properties hold true. "
   ]
  },
  {
   "cell_type": "markdown",
   "metadata": {},
   "source": [
    "Remember that the linear transformation by a matrix on its eigenvectors does not change the direction of the vector, only their lenghts. Eigenvalues are the scalars used to 'stretch' the eigenvectors during the transformation. \n",
    "\n",
    "$ Av = \\lambda v $ "
   ]
  },
  {
   "cell_type": "code",
   "execution_count": null,
   "metadata": {},
   "outputs": [],
   "source": [
    "#=============== YOUR CODE HERE ==================="
   ]
  },
  {
   "cell_type": "markdown",
   "metadata": {},
   "source": [
    "###### 10) Create a 3-element vector with integers of your choice. "
   ]
  },
  {
   "cell_type": "code",
   "execution_count": null,
   "metadata": {},
   "outputs": [],
   "source": [
    "v = # YOUR CODE HERE\n",
    "print(v)"
   ]
  },
  {
   "cell_type": "markdown",
   "metadata": {},
   "source": [
    "###### 11) Multiply matrix and v. \n",
    "Be careful, you want to make sure that the dimensions of the two arrays match up. Your vector should therefore be a (3, 1) matrix. Use the <b>shape<b> to see what dimension is <emph>v<emph> and <b>reshape<b> as needed. "
   ]
  },
  {
   "cell_type": "code",
   "execution_count": null,
   "metadata": {},
   "outputs": [],
   "source": [
    "#=============== YOUR CODE HERE ===================\n",
    "\n",
    "print(answer)"
   ]
  },
  {
   "cell_type": "markdown",
   "metadata": {},
   "source": [
    "###### 12) Flatten matrix into a 6-element vector. "
   ]
  },
  {
   "cell_type": "code",
   "execution_count": null,
   "metadata": {},
   "outputs": [],
   "source": [
    "flatten = # YOUR CODE HERE \n",
    "print(flatten)"
   ]
  },
  {
   "cell_type": "markdown",
   "metadata": {},
   "source": [
    "###### 13) Concatenate the following matrices."
   ]
  },
  {
   "cell_type": "markdown",
   "metadata": {},
   "source": [
    "*Note: Don't forget to convert the matrices to numpy arrays first.*"
   ]
  },
  {
   "cell_type": "code",
   "execution_count": null,
   "metadata": {},
   "outputs": [],
   "source": [
    "matrix1 = [[1, 2, 3, 4, 5], \n",
    "           [6, 7, 8, 9, 10], \n",
    "           [11, 12, 13, 14, 15]]\n",
    "\n",
    "matrix2 = [[16, 17, 18, 19, 20],\n",
    "           [21, 22, 23, 24, 25],\n",
    "           [26, 27, 28, 29, 30]]"
   ]
  },
  {
   "cell_type": "markdown",
   "metadata": {},
   "source": [
    "a) along axis 0. \n",
    "You should get \n",
    "\n",
    "$\\begin{bmatrix}\n",
    " 1 & 2 & 3 & 4 & 5 \\\\\n",
    " 6 & 7 & 8 & 9 & 10 \\\\\n",
    " 11 & 12 & 13 & 14 & 15 \\\\\n",
    " 16 & 17 & 18 & 19 & 20 \\\\\n",
    " 21 & 22 & 23 & 24 & 25 \\\\\n",
    " 26 & 27 & 28 & 29 & 30\n",
    "\\end{bmatrix}$"
   ]
  },
  {
   "cell_type": "code",
   "execution_count": null,
   "metadata": {},
   "outputs": [],
   "source": [
    "answer = # YOUR CODE HERE \n",
    "\n",
    "print(answer)"
   ]
  },
  {
   "cell_type": "markdown",
   "metadata": {},
   "source": [
    "b) along axis 1. You should get\n",
    "\n",
    "$\\begin{bmatrix}\n",
    " 1 & 2 & 3 & 4 & 5 & 16 & 17 & 18 & 19 & 20 \\\\\n",
    " 6 & 7 & 8 & 9 & 10 & 21 & 22 & 23 & 24 & 25 \\\\\n",
    " 11 & 12 & 13 & 14 & 15 & 26 & 27 & 28 & 29 & 30\n",
    "\\end{bmatrix}$"
   ]
  },
  {
   "cell_type": "code",
   "execution_count": null,
   "metadata": {},
   "outputs": [],
   "source": [
    "answer = # YOUR CODE HERE \n",
    "\n",
    "print(answer)"
   ]
  },
  {
   "cell_type": "markdown",
   "metadata": {},
   "source": [
    "### Basic statistics "
   ]
  },
  {
   "cell_type": "markdown",
   "metadata": {},
   "source": [
    "###### Create a vector $v$ with 30 random integers from 1 to 20. "
   ]
  },
  {
   "cell_type": "code",
   "execution_count": null,
   "metadata": {},
   "outputs": [],
   "source": [
    "v = # YOUR CODE HERE \n",
    "print(v)"
   ]
  },
  {
   "cell_type": "markdown",
   "metadata": {},
   "source": [
    "###### Print out the median of the list $ v $."
   ]
  },
  {
   "cell_type": "code",
   "execution_count": null,
   "metadata": {},
   "outputs": [],
   "source": [
    "median = # YOUR CODE HERE \n",
    "print(median)"
   ]
  },
  {
   "cell_type": "markdown",
   "metadata": {},
   "source": [
    "###### Print out the standard deviation of $ v$."
   ]
  },
  {
   "cell_type": "code",
   "execution_count": null,
   "metadata": {},
   "outputs": [],
   "source": [
    "std = # YOUR CODE HERE\n",
    "print(std)"
   ]
  },
  {
   "cell_type": "markdown",
   "metadata": {},
   "source": [
    "###### q) Randomly sample 5 items from the following list."
   ]
  },
  {
   "cell_type": "code",
   "execution_count": null,
   "metadata": {},
   "outputs": [],
   "source": [
    "list = np.arange(10) \n",
    "print(list)"
   ]
  },
  {
   "cell_type": "code",
   "execution_count": null,
   "metadata": {},
   "outputs": [],
   "source": [
    "sample = # YOUR CODE HERE \n",
    "print(sample)"
   ]
  },
  {
   "cell_type": "markdown",
   "metadata": {},
   "source": [
    "###### q) Now sample 5 items again from the list, but this time without replacement. \n",
    "If you are sampling with replacement, after each sampling, the item you chose is put into the pool and can be chosen again in following samplings. Whereas, the items are removed from the pool and will not be available again if you are not sampling with replacement. "
   ]
  },
  {
   "cell_type": "code",
   "execution_count": null,
   "metadata": {},
   "outputs": [],
   "source": [
    "sample = # YOUR CODE HERE \n",
    "print(sample)"
   ]
  },
  {
   "cell_type": "markdown",
   "metadata": {},
   "source": [
    "### Now it is time for a (small) challenge "
   ]
  },
  {
   "cell_type": "markdown",
   "metadata": {},
   "source": [
    "###### Maximum A Posteriori \n",
    "At a very high level, in Bayesian statistics, MAP is an estimate of an unknown quantity that takes into considerations prior assumptions and past events. \n",
    "For example, in a coin toss, the theoretical assumption is 0.5 probability of face and tail. However, the probability distribution will change based on the previous results of the coin toss.\n",
    "\n",
    "Let $x$ be the random variable of the coin toss, with $x$ = 1 being Head and $x$ = 0 Tail. Let $\\theta$ be the probability of getting 1. Intuitively, suppose you get 3 heads out of 10 tosses, your $\\theta$ value would be $\\theta = \\frac{head}{total} = \\frac{3}{10} = 0.3$.\n",
    "\n",
    "\n",
    "We can model the coin toss with a Bernouilli equation. \n",
    "$\\theta = P(x = 1) = 1 - P(x = 0)$. \n",
    "\n",
    "The probability mass function of $x$ depending on $\\theta$ is then $P(x | \\theta) = \\theta^x (1 - \\theta)^{1-x}$, where $\\theta$ is defined by prior data and updated after each iteration. \n",
    "\n",
    "\n",
    "\n",
    "The formula to estimate the probability is $ \\hat{\\theta}_{MAP}(x) = \\underset{\\theta}{\\mathrm{argmin}} P(x | \\theta) P(\\theta)$\n",
    "\n",
    "You can read more about MAP here: https://wiseodd.github.io/techblog/2017/01/01/mle-vs-map/\n"
   ]
  },
  {
   "cell_type": "markdown",
   "metadata": {},
   "source": [
    "###### Given this, code out a formula that estimates the probability of a BIASED coin landing on HEAD after 20 tosses. \n",
    "\n",
    "Assume that you did not know that coin was biased at the beginning, so start with a $P(x = 1) = 0.5$. \n",
    "Toss your coin with a bias of $P(x = 1) = 0.8$. After each iteration, print out the total number of Tails and Heads you have gotten, and the updated $\\theta$. \n",
    "\n",
    "What do you observe? \n",
    "\n"
   ]
  },
  {
   "cell_type": "code",
   "execution_count": null,
   "metadata": {},
   "outputs": [],
   "source": [
    "#=============== YOUR CODE HERE ==================="
   ]
  },
  {
   "cell_type": "markdown",
   "metadata": {},
   "source": [
    "<div style=\"background-color:#F9F2EB; text-align:left; padding: 10px;\">\n",
    "Your dataset description here: ... "
   ]
  }
 ],
 "metadata": {
  "kernelspec": {
   "display_name": "Python 3",
   "language": "python",
   "name": "python3"
  },
  "language_info": {
   "codemirror_mode": {
    "name": "ipython",
    "version": 3
   },
   "file_extension": ".py",
   "mimetype": "text/x-python",
   "name": "python",
   "nbconvert_exporter": "python",
   "pygments_lexer": "ipython3",
   "version": "3.7.0"
  }
 },
 "nbformat": 4,
 "nbformat_minor": 2
}
