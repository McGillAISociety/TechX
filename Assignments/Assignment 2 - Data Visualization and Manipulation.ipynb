{
 "cells": [
  {
   "cell_type": "markdown",
   "metadata": {},
   "source": [
    "# Assignment 2 - Data Visualization and Manipulation"
   ]
  },
  {
   "cell_type": "markdown",
   "metadata": {},
   "source": [
    "For this assignment, answer directly on this Jupyter notebook. You will get to play around with this IDE. Once you're done, please submit the assignment as \"Name_Surname_Assignment2.ipynb\""
   ]
  },
  {
   "cell_type": "markdown",
   "metadata": {},
   "source": [
    "###### Importing packages and knowing what packages you need for a project is crucial. We will not be reminding you which packages you need for each question and for the assignment in general. Please import the packages at your own discretion. \n",
    "*Note*: we presented some example packages during class (eg. numpy, matplotlib, etc.). However, we only focus on the end results, so you can use any libraries of you choice. "
   ]
  },
  {
   "cell_type": "markdown",
   "metadata": {},
   "source": [
    "### Data Manipulation\n",
    "\n",
    "For this part of the assignment, we will be working with ramen-ratings dataset from Kaggle. "
   ]
  },
  {
   "cell_type": "markdown",
   "metadata": {},
   "source": [
    "Read the 'dataset/ramen-ratings.csv' dataset. Describe the dataset quickly. What do you see? "
   ]
  },
  {
   "cell_type": "code",
   "execution_count": 73,
   "metadata": {},
   "outputs": [],
   "source": [
    "# =========== YOUR CODE HERE ========"
   ]
  },
  {
   "cell_type": "markdown",
   "metadata": {},
   "source": [
    "Take a look at the 'Top Ten' column. The dataset includes the year and the ranking of the ramen (if ever ranked). However, it is done in a very unorganized manner (in my opinion). Therefore, replace all the entries by removing the ranking, and keeping ONLY the year. \n",
    "\n",
    "eg. \"2016 #10\" becomes \"2016\""
   ]
  },
  {
   "cell_type": "markdown",
   "metadata": {},
   "source": [
    "Now, let's look at the following scenarios and help out Bobby in his journey. "
   ]
  },
  {
   "cell_type": "markdown",
   "metadata": {},
   "source": [
    "**1)** Bobby is a new food critique, and he wants to impress his boss with his favourite food: ramen. Help Bobby rank all of the countries based on their average ramen ratings, so he knows where to visit for his first professional critique. Plot it out in an ascending order. \n",
    "Explain your choice of the type of graph. "
   ]
  },
  {
   "cell_type": "code",
   "execution_count": 73,
   "metadata": {},
   "outputs": [],
   "source": [
    "# =========== YOUR CODE HERE ========"
   ]
  },
  {
   "cell_type": "markdown",
   "metadata": {},
   "source": [
    "**2)** Now that you have figured out countries' rankings, which country should Bobby visit to get the BEST ramens? "
   ]
  },
  {
   "cell_type": "code",
   "execution_count": 73,
   "metadata": {},
   "outputs": [],
   "source": [
    "# =========== YOUR CODE HERE ========"
   ]
  },
  {
   "cell_type": "markdown",
   "metadata": {},
   "source": [
    "**3)** Alright alright alright. There are over 2500 entries in this dataset. Bobby's old cellphone keeps lagging, every time he loads it. Help him extract the relevant data entries (the one from the best country) so he can navigate better. Oh while you're at it, rank the ramen in this country in ascending order according to their rankings! [hint: never overwrite your original dataset because you never know when you'll need it again.]"
   ]
  },
  {
   "cell_type": "code",
   "execution_count": 73,
   "metadata": {},
   "outputs": [],
   "source": [
    "# =========== YOUR CODE HERE ========"
   ]
  },
  {
   "cell_type": "markdown",
   "metadata": {},
   "source": [
    "**4)** As personal preference, Bobby likes 'Bowl' ramen. Therefore, he decides to start off with the brand with the widest variety of flavours. If there is a tie, obviously, go for the higher ranked one! Which one would it be? "
   ]
  },
  {
   "cell_type": "code",
   "execution_count": 73,
   "metadata": {},
   "outputs": [],
   "source": [
    "# =========== YOUR CODE HERE ========"
   ]
  },
  {
   "cell_type": "markdown",
   "metadata": {},
   "source": [
    "**5)** Bobby finishes his critique and shows it to his boss. Unfortunately, his boss was not impressed! They said that the brand was too mainstream, and too many critiques have already wrote articles about it. They told Bobby to target the ramen with a 5 star rating that is from either USA, Hong Kong, Singapore, South Korea or Taiwan. AND that have ranked 'Top Ten'. What are the possible ramens? \n",
    "\n",
    "Can you do this in one single line? "
   ]
  },
  {
   "cell_type": "code",
   "execution_count": 73,
   "metadata": {},
   "outputs": [],
   "source": [
    "# =========== YOUR CODE HERE ========"
   ]
  },
  {
   "cell_type": "markdown",
   "metadata": {},
   "source": [
    "**6)** Bobby decides that he wants to try all of the ramens in the world. Help him create a new column in the dataset called 'Tried' to keep track of his progress. Set the default value to False. "
   ]
  },
  {
   "cell_type": "code",
   "execution_count": 73,
   "metadata": {},
   "outputs": [],
   "source": [
    "# =========== YOUR CODE HERE ========"
   ]
  },
  {
   "cell_type": "markdown",
   "metadata": {},
   "source": [
    "**7)** Bobby arrives to Singapore, and in a single day finishes ALL the ramens above 3.0 (inclusive) stars, that are NOT in a 'Pack'. (Yes, he eats a lot). Change all of the 'Tries' entries of these rows to True. "
   ]
  },
  {
   "cell_type": "code",
   "execution_count": 73,
   "metadata": {},
   "outputs": [],
   "source": [
    "# =========== YOUR CODE HERE ========"
   ]
  },
  {
   "cell_type": "markdown",
   "metadata": {},
   "source": [
    "**8)** Once again, he notices that his phone is super slow. Therefore, he decides to delete each ramen he has tried from the list, instead of marking 'Tried' as True. This extra column makes the phone even slower. Help remove the 'Tried' column, and remove the colums where 'Tries' is True. Try to make this inplace so that. This will help Bobby save RAM, as it will not create a temporary duplicate dataset on his phone! "
   ]
  },
  {
   "cell_type": "code",
   "execution_count": 73,
   "metadata": {},
   "outputs": [],
   "source": [
    "# =========== YOUR CODE HERE ========"
   ]
  },
  {
   "cell_type": "markdown",
   "metadata": {},
   "source": [
    "**9)** It suddenly hit Bobby. Why are there so many different styles of ramen? He is curious of the distribution of the packaging styles. Help him visualize the percentage of occurrence of each package. Explain the choice of your graph style. "
   ]
  },
  {
   "cell_type": "code",
   "execution_count": 73,
   "metadata": {},
   "outputs": [],
   "source": [
    "# =========== YOUR CODE HERE ========"
   ]
  },
  {
   "cell_type": "markdown",
   "metadata": {},
   "source": [
    "**10)** After trying all the Singaporian ramen, he decides that it is time for him to change to a more powerful phone. He wants to save his UPDATED dataset to an external SD card so he can transfer it to his new phone. Save the dataset as 'Name-Surname-ramen-to-try.csv'. \n",
    "\n",
    "Don't forget to update the dataset first! Make sure that you save don't also save the row indeces! "
   ]
  }
 ],
 "metadata": {
  "kernelspec": {
   "display_name": "Python 3",
   "language": "python",
   "name": "python3"
  },
  "language_info": {
   "codemirror_mode": {
    "name": "ipython",
    "version": 3
   },
   "file_extension": ".py",
   "mimetype": "text/x-python",
   "name": "python",
   "nbconvert_exporter": "python",
   "pygments_lexer": "ipython3",
   "version": "3.7.0"
  }
 },
 "nbformat": 4,
 "nbformat_minor": 2
}
