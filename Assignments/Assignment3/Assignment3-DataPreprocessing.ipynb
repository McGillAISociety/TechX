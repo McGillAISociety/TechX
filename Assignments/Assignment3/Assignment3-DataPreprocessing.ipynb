{
 "cells": [
  {
   "cell_type": "markdown",
   "metadata": {},
   "source": [
    "# Assignment 3 - Data Preprocessing"
   ]
  },
  {
   "cell_type": "markdown",
   "metadata": {},
   "source": [
    "This assignment will be focused on data preprocessing methods that you've seen in class. We will be using the scikit-learn library. Some sample codes will be provided, but the goal is definitely for you to explore different functions and possibilities. Therefore, do not hesitate to go wild and stretch the capabilities of these libraries. \n",
    "In addition, we will be using the Random Forest Classifier. Do not worry if you do not know what this classifier is. It will be covered in the following classes!\n",
    "\n",
    "For this assignment, answer directly on this Jupyter notebook. Once you're done, please submit the assignment as \"Name_Surname_Assignment3.ipynb\"\n",
    "\n",
    "*Don't forget that commenting your code is very important!*\n"
   ]
  },
  {
   "cell_type": "markdown",
   "metadata": {},
   "source": [
    "### 1. Import packages \n",
    "\n",
    "###### Import the packages you think will be useful. We have imported some packages for you already, as they are outside the scope of this lecture. \n",
    "\n",
    "*Note*: we presented some example packages during class (eg. numpy, matplotlib, etc.). However, we only focus on the end results, so you can use any libraries of you choice. "
   ]
  },
  {
   "cell_type": "code",
   "execution_count": null,
   "metadata": {},
   "outputs": [],
   "source": [
    "# IMPORT PACKAGES\n",
    "from sklearn.ensemble import RandomForestClassifier\n",
    "\n",
    "# =========== YOUR CODE HERE ======== \n"
   ]
  },
  {
   "cell_type": "markdown",
   "metadata": {},
   "source": [
    "### 2. Get started with the machine learning. \n",
    "\n",
    "For this assignment, we will be using the kickstarter dataset from <a>kaggle.com</a>. Kickstarter is famous online platform for entreneurs to advertise and raise money for their new startup projects. This dataset compiles the success, goal and other informations of the projects in 2018. \n",
    "\n",
    "We will try to use this dataset to predict the whether or not a project would succeed. We will be using the **'state'** column as out target labels. "
   ]
  },
  {
   "cell_type": "markdown",
   "metadata": {},
   "source": [
    "###### 1) Read the dataset './dataset/kickstarter.csv'. "
   ]
  },
  {
   "cell_type": "code",
   "execution_count": null,
   "metadata": {},
   "outputs": [],
   "source": [
    "# =========== YOUR CODE HERE ======== "
   ]
  },
  {
   "cell_type": "markdown",
   "metadata": {},
   "source": [
    "###### 2) Describe the dataset. What do you see? "
   ]
  },
  {
   "cell_type": "markdown",
   "metadata": {},
   "source": [
    "<div style=\"background-color:#F9F2EB; text-align:left; padding: 10px;\">\n",
    "Your dataset description here: ... "
   ]
  },
  {
   "cell_type": "markdown",
   "metadata": {},
   "source": [
    "###### 3) Create your train and test sets using a 0.8/0.2 split with the `train_test_split`  function from sciki-learn. \n",
    "Name your final datasets as `X_train`, `Y_train`, `X_test` and `Y_test`.\n",
    "\n",
    "*Note: There are many ways of splitting data. A sample code for train-test splitting using *masks* is provided.*"
   ]
  },
  {
   "cell_type": "code",
   "execution_count": null,
   "metadata": {},
   "outputs": [],
   "source": [
    "# Random mask to split train / test sets. \n",
    "msk = np.random.rand(len(ds)) < 0.8 \n",
    "train = ds[msk]\n",
    "test = ds[~msk]\n",
    "\n",
    "Y_train = train['state']\n",
    "X_train = train.drop(columns='state')\n",
    "\n",
    "Y_test = test['state']\n",
    "X_test = test.drop(columns='state')\n",
    "\n",
    "# Examine the size of the datasets to make sure that the split ratio was properly applied. (0.8/0.2)\n",
    "print('Number of samples in train set: ', len(X_train))\n",
    "print('Number of samples in train set: ', len(X_test))"
   ]
  },
  {
   "cell_type": "code",
   "execution_count": null,
   "metadata": {},
   "outputs": [],
   "source": [
    "# SCIKIT-LEARN TRAIN-TEST SPLIT\n",
    "# =========== YOUR CODE HERE ======== "
   ]
  },
  {
   "cell_type": "markdown",
   "metadata": {},
   "source": [
    "###### 4) Fit the dataset onto the random forest classifer. \n",
    "Once again, do not worry about the what the classifier entails. We will cover this in more details in the following classes. "
   ]
  },
  {
   "cell_type": "code",
   "execution_count": null,
   "metadata": {},
   "outputs": [],
   "source": [
    "randomForest = RandomForestClassifier()\n",
    "\n",
    "# =========== YOUR CODE HERE ======== \n",
    "randomForest.fit(X_train, Y_train)"
   ]
  },
  {
   "cell_type": "markdown",
   "metadata": {},
   "source": [
    "### UH OH!\n",
    "\n",
    "As you may see, the dataset is not ready to be fit onto the algorithm just yet. There is some preprocessing to do before you can do anything with it. The machine does not quite understand the data yet. While you're at it, you can also play around to see how you can preprocess the data to enhance the model performance too!\n",
    "\n",
    "Things that you can consider doing include, but not limited to: \n",
    "- Encode categorical data to machine intepretable \n",
    "- Normalize your data \n",
    "- Select / drop columns\n",
    "- Take care of missing values \n",
    "- etc. "
   ]
  },
  {
   "cell_type": "markdown",
   "metadata": {},
   "source": [
    "###### 5) Preprocess your data the way you want, but make it work!"
   ]
  },
  {
   "cell_type": "code",
   "execution_count": null,
   "metadata": {},
   "outputs": [],
   "source": [
    "# =========== YOUR CODE HERE ======== "
   ]
  },
  {
   "cell_type": "markdown",
   "metadata": {},
   "source": [
    "###### 6) Refit your processed dataset onto the classifier. Test your model on your test set and print out the accuracy. \n",
    "If everything goes well, you should get an accuracy of around 0.85~0.88"
   ]
  },
  {
   "cell_type": "code",
   "execution_count": null,
   "metadata": {},
   "outputs": [],
   "source": [
    "# =========== YOUR CODE HERE ======== "
   ]
  },
  {
   "cell_type": "markdown",
   "metadata": {},
   "source": [
    "###### 7) What else can you do to make your score better? "
   ]
  },
  {
   "cell_type": "code",
   "execution_count": null,
   "metadata": {},
   "outputs": [],
   "source": []
  }
 ],
 "metadata": {
  "kernelspec": {
   "display_name": "Python 3",
   "language": "python",
   "name": "python3"
  },
  "language_info": {
   "codemirror_mode": {
    "name": "ipython",
    "version": 3
   },
   "file_extension": ".py",
   "mimetype": "text/x-python",
   "name": "python",
   "nbconvert_exporter": "python",
   "pygments_lexer": "ipython3",
   "version": "3.7.0"
  }
 },
 "nbformat": 4,
 "nbformat_minor": 2
}
