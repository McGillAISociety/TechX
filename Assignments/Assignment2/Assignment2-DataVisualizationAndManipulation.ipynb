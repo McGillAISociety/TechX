{
 "cells": [
  {
   "cell_type": "markdown",
   "metadata": {},
   "source": [
    "# Assignment 2 - Data Visualization and Manipulation"
   ]
  },
  {
   "cell_type": "markdown",
   "metadata": {},
   "source": [
    "This assignment will focus on two very important libaries in machinese learning and data science: Matplotlib and Pandas. You will learn several data manipulation and visualization techniques. However, there exists a lot more functions out there. Don't forget to get curious and explore what these powerful libraries are capable of!\n",
    "\n",
    "*Don't forget that commenting your code is very important!*"
   ]
  },
  {
   "cell_type": "markdown",
   "metadata": {},
   "source": [
    "### 1. Import packages\n",
    "\n",
    "###### Importing packages and knowing what packages you need for a project is crucial. We will not be reminding you which packages you need for each question and for the assignment in general. Please import the packages at your own discretion. Although it is common practice to import all packages at once at the beginning, don't hesitate to revisit the next cell, and import more packages as you may need. \n",
    "\n",
    "*Note*: we presented some example packages during class (eg. numpy, matplotlib, etc.). However, we only focus on the end results, so you can use any libraries of you choice. "
   ]
  },
  {
   "cell_type": "code",
   "execution_count": null,
   "metadata": {},
   "outputs": [],
   "source": [
    "# IMPORT PACKAGES\n",
    "# =========== YOUR CODE HERE ======== "
   ]
  },
  {
   "cell_type": "markdown",
   "metadata": {},
   "source": [
    "### 2. Data Manipulation\n",
    "\n",
    "For this part of the assignment, we will be working with ramen-ratings dataset from Kaggle. <br>\n",
    "https://www.kaggle.com/residentmario/ramen-ratings "
   ]
  },
  {
   "cell_type": "markdown",
   "metadata": {},
   "source": [
    "###### Read the 'dataset/ramen-ratings.csv' dataset. Describe the dataset quickly. What do you see? "
   ]
  },
  {
   "cell_type": "code",
   "execution_count": null,
   "metadata": {},
   "outputs": [],
   "source": [
    "# =========== YOUR CODE HERE ========"
   ]
  },
  {
   "cell_type": "markdown",
   "metadata": {},
   "source": [
    "### <span style=\"background-color: #F9F2EB\">Your dataset description here: ... \n",
    "\n",
    "Interesting things to write in this section include: \n",
    "- It is a dataset about ramen ratings with 2580 entries. \n",
    "- The dataset contains information about the brand, the country of origin, the varities, style, the star ratings and whether it has been part of the world top ten ramen. \n",
    "- The 'Review #' columnn is simply an index and has no relevance in the actual dataset. \n",
    "- 'Brand', 'Country', 'Variety' and 'Style' have categorical values. Specifically, 'Variety' have unique values. \n",
    "- The 'Star' rating is continuous decimal numbers out of 5, the majority (around 50%) of the ratings are above 3.0\n",
    "- Over 50% of the 'Style' entries are 'Packs'\n",
    "- The 'Top Ten' entries are NaN (null) if they have never been a Top Ten ramen. This field include the year of the reward, as well as the ranking. "
   ]
  },
  {
   "cell_type": "markdown",
   "metadata": {},
   "source": [
    "###### Take a look at the 'Top Ten' column. The row has a NaN value if the ramen has never been ranked. In datascience, NaN values are dangerous and can stop algorithms from working properly or working at all. First replace the NaN values by 'no'. "
   ]
  },
  {
   "cell_type": "code",
   "execution_count": null,
   "metadata": {},
   "outputs": [],
   "source": [
    "# =========== YOUR CODE HERE ========"
   ]
  },
  {
   "cell_type": "markdown",
   "metadata": {},
   "source": [
    "###### The dataset includes the year and the ranking of the ramen (if ever ranked). However, it is done in a very unorganized manner (in my opinion). Therefore, replace all the entries by removing the ranking, and keeping ONLY the year. \n",
    "eg. \"2016 #10\" becomes \"2016\""
   ]
  },
  {
   "cell_type": "code",
   "execution_count": null,
   "metadata": {},
   "outputs": [],
   "source": [
    "# =========== YOUR CODE HERE ========"
   ]
  },
  {
   "cell_type": "markdown",
   "metadata": {},
   "source": [
    "###### Uh oh, it seems like there are still some invalid values in the Top Ten column. Replace the '\\n' values with 'no' as well. "
   ]
  },
  {
   "cell_type": "code",
   "execution_count": null,
   "metadata": {},
   "outputs": [],
   "source": [
    "# =========== YOUR CODE HERE ========"
   ]
  },
  {
   "cell_type": "markdown",
   "metadata": {},
   "source": [
    "### Now, let's look at the following scenarios and help out Bobby in his journey. "
   ]
  },
  {
   "cell_type": "markdown",
   "metadata": {},
   "source": [
    "**1)** Bobby is a new food critique, and he wants to impress his boss with his favourite food: ramen. Help Bobby rank all of the countries based on their average ramen ratings, so he knows where to visit for his first professional critique. Plot it out in an ascending order. \n",
    "Explain your choice of the type of graph. "
   ]
  },
  {
   "cell_type": "code",
   "execution_count": null,
   "metadata": {},
   "outputs": [],
   "source": [
    "# =========== YOUR CODE HERE ======== "
   ]
  },
  {
   "cell_type": "markdown",
   "metadata": {},
   "source": [
    "### <span style=\"background-color: #F9F2EB\"> Choice of graph type: ... </span>"
   ]
  },
  {
   "cell_type": "markdown",
   "metadata": {},
   "source": [
    "**2)** Now that you have figured out countries' rankings, which country should Bobby visit to get the BEST ramens? "
   ]
  },
  {
   "cell_type": "code",
   "execution_count": null,
   "metadata": {},
   "outputs": [],
   "source": [
    "# =========== YOUR CODE HERE ========"
   ]
  },
  {
   "cell_type": "markdown",
   "metadata": {},
   "source": [
    "**3)** Alright alright alright. There are over 2500 entries in this dataset. Bobby's old cellphone keeps lagging, every time he loads it. Help him extract the relevant data entries (the one from the best country) so he can navigate better. Oh while you're at it, rank the ramen in this country in ascending order according to their rankings! <br>\n",
    "[hint: never overwrite your original dataset because you never know when you'll need it again.]"
   ]
  },
  {
   "cell_type": "code",
   "execution_count": null,
   "metadata": {},
   "outputs": [],
   "source": [
    "# =========== YOUR CODE HERE ========"
   ]
  },
  {
   "cell_type": "markdown",
   "metadata": {},
   "source": [
    "**4)** As personal preference, Bobby likes 'Pack' ramen. Therefore, he decides to start off with highest rated Pack ramen. Which one would it be? "
   ]
  },
  {
   "cell_type": "code",
   "execution_count": null,
   "metadata": {},
   "outputs": [],
   "source": [
    "# =========== YOUR CODE HERE ========"
   ]
  },
  {
   "cell_type": "markdown",
   "metadata": {},
   "source": [
    "**5)** Bobby finishes his critique and shows it to his boss. Unfortunately, his boss was not impressed! They said that the brand was too mainstream, and too many critiques have already wrote articles about it. They told Bobby to target the ramen with a 5 star rating that is from either Japan, Malaysia, Singapore or South Korea. AND that have ranked 'Top Ten'. What are the possible ramens? \n",
    "\n",
    "Can you do this in one single line? "
   ]
  },
  {
   "cell_type": "code",
   "execution_count": null,
   "metadata": {},
   "outputs": [],
   "source": [
    "# =========== YOUR CODE HERE ========"
   ]
  },
  {
   "cell_type": "markdown",
   "metadata": {},
   "source": [
    "**6)** Bobby starts his ramen eating journey, and arrives to Singapore. In a single day finishes ALL the ramens above 3.0 (inclusive) stars, that are NOT in a 'Pack'. (Yes, he eats a lot). Change all of the 'Tries' entries of these rows to True. "
   ]
  },
  {
   "cell_type": "code",
   "execution_count": null,
   "metadata": {},
   "outputs": [],
   "source": [
    "# =========== YOUR CODE HERE ========"
   ]
  },
  {
   "cell_type": "markdown",
   "metadata": {},
   "source": [
    "**7)** Bobby goes into the Singaporian 7-eleven and stumbles upon a new ramen that he has never heard of, and was not part of the dataset. He tried it and absolutely LOVED it (5/5). It was the packed 'Beef Noodle Soup' flavoured ramen from 'Prima Taste'. Help him add it into the dataset! "
   ]
  },
  {
   "cell_type": "code",
   "execution_count": null,
   "metadata": {},
   "outputs": [],
   "source": [
    "# =========== YOUR CODE HERE ========"
   ]
  },
  {
   "cell_type": "markdown",
   "metadata": {},
   "source": [
    "**8)** Once again, he notices that his phone is super slow. Therefore, he decides to delete each ramen he has tried from the list, instead of marking 'Tried' as True. This extra column makes the phone even slower. Help remove the 'Tried' column, and remove the colums where 'Tries' is True. Try to make this inplace so that. This will help Bobby save RAM, as it will not create a temporary duplicate dataset on his phone! "
   ]
  },
  {
   "cell_type": "code",
   "execution_count": null,
   "metadata": {},
   "outputs": [],
   "source": [
    "# =========== YOUR CODE HERE ========"
   ]
  },
  {
   "cell_type": "markdown",
   "metadata": {},
   "source": [
    "**9)** It suddenly hit Bobby. Why are there so many different styles of ramen? He is curious of the distribution of the packaging styles of the remaining to try ramens. Help him visualize the percentage of occurrence of each package. Explain the choice of your graph style. "
   ]
  },
  {
   "cell_type": "code",
   "execution_count": null,
   "metadata": {},
   "outputs": [],
   "source": [
    "# =========== YOUR CODE HERE ========"
   ]
  },
  {
   "cell_type": "markdown",
   "metadata": {},
   "source": [
    "### <span style=\"background-color: #F9F2EB\"> Choice of graph type ... </span> "
   ]
  },
  {
   "cell_type": "markdown",
   "metadata": {},
   "source": [
    "**10)** After trying all the Singaporian ramen, he decides that it is time for him to change to a more powerful phone. He wants to save his UPDATED dataset to an external SD card so he can transfer it to his new phone. Save the dataset as 'Name-Surname-ramen-to-try.csv'. \n",
    "\n",
    "Don't forget to update the dataset first! Make sure that you save don't also save the row indeces! "
   ]
  },
  {
   "cell_type": "code",
   "execution_count": null,
   "metadata": {},
   "outputs": [],
   "source": [
    "# =========== YOUR CODE HERE ======== "
   ]
  },
  {
   "cell_type": "markdown",
   "metadata": {},
   "source": [
    "### Data Visualization "
   ]
  },
  {
   "cell_type": "markdown",
   "metadata": {},
   "source": [
    "###### 1) Load ./dataset/shiba-inu.jpg and display it."
   ]
  },
  {
   "cell_type": "code",
   "execution_count": null,
   "metadata": {},
   "outputs": [],
   "source": [
    "# =========== YOUR CODE HERE ======== "
   ]
  },
  {
   "cell_type": "markdown",
   "metadata": {},
   "source": [
    "###### 2) Display the shiba-inu in (100, 120) size."
   ]
  },
  {
   "cell_type": "code",
   "execution_count": null,
   "metadata": {},
   "outputs": [],
   "source": [
    "# =========== YOUR CODE HERE ======== "
   ]
  },
  {
   "cell_type": "markdown",
   "metadata": {},
   "source": [
    "###### 3) Load 'star-boo.jpg', 'baby-dog.jpg' and 'chihuahua.jpg' in the dataset folder and display all four images in a 2x2 grid. (make sure the colors are okay!)"
   ]
  },
  {
   "cell_type": "code",
   "execution_count": null,
   "metadata": {},
   "outputs": [],
   "source": [
    "# =========== YOUR CODE HERE ======== "
   ]
  },
  {
   "cell_type": "markdown",
   "metadata": {},
   "source": [
    "###### 4) Give the image a title of your choice. Remove the axis from the pictures and redisplay the pictures of the cute dogs. "
   ]
  },
  {
   "cell_type": "code",
   "execution_count": null,
   "metadata": {},
   "outputs": [],
   "source": [
    "# =========== YOUR CODE HERE ======== "
   ]
  },
  {
   "cell_type": "markdown",
   "metadata": {},
   "source": [
    "## HAVE FUN!!"
   ]
  }
 ],
 "metadata": {
  "kernelspec": {
   "display_name": "Python 3",
   "language": "python",
   "name": "python3"
  },
  "language_info": {
   "codemirror_mode": {
    "name": "ipython",
    "version": 3
   },
   "file_extension": ".py",
   "mimetype": "text/x-python",
   "name": "python",
   "nbconvert_exporter": "python",
   "pygments_lexer": "ipython3",
   "version": "3.7.0"
  }
 },
 "nbformat": 4,
 "nbformat_minor": 2
}
