{
 "cells": [
  {
   "cell_type": "markdown",
   "metadata": {},
   "source": [
    "# Introduction To Python "
   ]
  },
  {
   "cell_type": "markdown",
   "metadata": {},
   "source": [
    "### Print Statements"
   ]
  },
  {
   "cell_type": "code",
   "execution_count": 2,
   "metadata": {},
   "outputs": [
    {
     "name": "stdout",
     "output_type": "stream",
     "text": [
      "Hello World\n",
      "Hello\n",
      "Hello\n"
     ]
    }
   ],
   "source": [
    "# Hello World\n",
    "print('Hello World')\n",
    "\n",
    "# Quotations/Semi-Colons\n",
    "print(\"Hello\")\n",
    "print(\"Hello\");"
   ]
  },
  {
   "cell_type": "markdown",
   "metadata": {},
   "source": [
    "### Variables"
   ]
  },
  {
   "cell_type": "code",
   "execution_count": 52,
   "metadata": {},
   "outputs": [
    {
     "name": "stdout",
     "output_type": "stream",
     "text": [
      "Hello World\n",
      "3\n",
      "4.5\n",
      "True\n",
      "John is 23.\n"
     ]
    }
   ],
   "source": [
    "# Strings\n",
    "var1 = 'Hello World'\n",
    "print(var1)\n",
    "\n",
    "# Integers\n",
    "var2 = 3\n",
    "print(var2)\n",
    "\n",
    "# Floats\n",
    "var3 = 4.5\n",
    "print(var3)\n",
    "\n",
    "# Booleans\n",
    "var4 = True\n",
    "print(var4)\n",
    "\n",
    "# Multideclarations\n",
    "a, b = 'John', 23\n",
    "print('{} is {}.'.format(a,b))"
   ]
  },
  {
   "cell_type": "markdown",
   "metadata": {},
   "source": [
    "### Arrays"
   ]
  },
  {
   "cell_type": "code",
   "execution_count": 53,
   "metadata": {},
   "outputs": [
    {
     "name": "stdout",
     "output_type": "stream",
     "text": [
      "2\n",
      "7\n",
      "[7, 'Frank']\n",
      "[[2, 2], [3, 3]]\n",
      "[None, None, None, None]\n"
     ]
    }
   ],
   "source": [
    "# Build Array\n",
    "arr = [2, 3, 4]\n",
    "print(arr[0])\n",
    "\n",
    "# Empty Declaration\n",
    "arr2 = []\n",
    "arr2.append(7)\n",
    "print(arr2[0])\n",
    "\n",
    "# Mixed Variable Types\n",
    "arr2.append('Frank')\n",
    "print(arr2)\n",
    "\n",
    "# Double Arrays\n",
    "arr3 = [[2,2], [3,3]]\n",
    "print(arr3)\n",
    "\n",
    "# Declaring Empty Array\n",
    "arr4 = [None]*4\n",
    "print(arr4)"
   ]
  },
  {
   "cell_type": "markdown",
   "metadata": {},
   "source": [
    "### Dictionaries"
   ]
  },
  {
   "cell_type": "code",
   "execution_count": 29,
   "metadata": {},
   "outputs": [
    {
     "name": "stdout",
     "output_type": "stream",
     "text": [
      "12345\n",
      "{'John': 12345, 'Tiff': 54321}\n",
      "{'frank': 34566}\n"
     ]
    }
   ],
   "source": [
    "# Student-ID Key-Value Example\n",
    "dict = {}\n",
    "dict['John'] = 12345\n",
    "print(dict['John'])\n",
    "\n",
    "dict['Tiff'] = 54321\n",
    "\n",
    "print(dict)\n",
    "\n",
    "dict2 = {}\n",
    "dict2['frank'] = 34566\n",
    "print(dict2)"
   ]
  },
  {
   "cell_type": "markdown",
   "metadata": {},
   "source": [
    "### If-Else Statements"
   ]
  },
  {
   "cell_type": "code",
   "execution_count": 35,
   "metadata": {},
   "outputs": [
    {
     "name": "stdout",
     "output_type": "stream",
     "text": [
      "Hey\n",
      "hey hey\n"
     ]
    }
   ],
   "source": [
    "# If-Else\n",
    "a=5\n",
    "if a > 3:\n",
    "    print('Hey')\n",
    "    print('hey hey')\n",
    "elif a == 3:\n",
    "    print('Tiff')\n",
    "else:\n",
    "    print('Hi')\n"
   ]
  },
  {
   "cell_type": "markdown",
   "metadata": {},
   "source": [
    "### For Loops"
   ]
  },
  {
   "cell_type": "code",
   "execution_count": 44,
   "metadata": {},
   "outputs": [
    {
     "name": "stdout",
     "output_type": "stream",
     "text": [
      "[10, 9, 8, 7, 6, 5]\n",
      "20\n",
      "18\n",
      "16\n",
      "14\n"
     ]
    }
   ],
   "source": [
    "# For loop (in range)\n",
    "arr = []\n",
    "for x in range(10, 4, -1):\n",
    "    arr.append(x)\n",
    "\n",
    "print(arr)\n",
    "\n",
    "# For Each Loop (in X)\n",
    "for item in arr[:4]: \n",
    "    print(item * 2)\n"
   ]
  },
  {
   "cell_type": "markdown",
   "metadata": {},
   "source": [
    "### While Loop"
   ]
  },
  {
   "cell_type": "code",
   "execution_count": 45,
   "metadata": {},
   "outputs": [
    {
     "name": "stdout",
     "output_type": "stream",
     "text": [
      "9\n",
      "8\n",
      "7\n",
      "6\n",
      "5\n",
      "4\n",
      "3\n",
      "2\n",
      "1\n",
      "0\n"
     ]
    }
   ],
   "source": [
    "# While less than N\n",
    "k = 10\n",
    "while k > 0:\n",
    "    k = k-1\n",
    "    print(k)"
   ]
  },
  {
   "cell_type": "markdown",
   "metadata": {},
   "source": [
    "### Declaring Methods"
   ]
  },
  {
   "cell_type": "code",
   "execution_count": 51,
   "metadata": {},
   "outputs": [
    {
     "name": "stdout",
     "output_type": "stream",
     "text": [
      "7\n",
      "(5, 6)\n",
      "5\n"
     ]
    }
   ],
   "source": [
    "# Get sum method (single return)\n",
    "def getSum(x, y):\n",
    "    return x+y\n",
    "\n",
    "n = getSum(2,5)\n",
    "print(n)\n",
    "\n",
    "# Get sum and product (double return)\n",
    "def getSumAndProduct(x,y):\n",
    "    addition = x+y\n",
    "    product = x*y\n",
    "    return addition, product\n",
    "\n",
    "p = getSumAndProduct(2,3)\n",
    "print(p)\n",
    "print(p[0])\n",
    "    "
   ]
  },
  {
   "cell_type": "markdown",
   "metadata": {},
   "source": [
    "### Let's Practice - Fizz Buzz!\n",
    "**Write some code that does the following:**\n",
    "\n",
    "1) Loop (use while or for loops) all numbers from 0 to 100.\n",
    "\n",
    "2) For each number:\n",
    "- Print “Fizz” if the number is a multiple of 3 (and not 5).\n",
    "- Print “Buzz” if the number is a multiple of 5 (and not 3).\n",
    "- Print “FizzBuzz” if the number is a multiple of both.\n",
    "\n",
    "3) Put this code into a method and call it from a main class.\n"
   ]
  },
  {
   "cell_type": "code",
   "execution_count": 11,
   "metadata": {
    "collapsed": true
   },
   "outputs": [],
   "source": [
    "# Solution Here"
   ]
  }
 ],
 "metadata": {
  "kernelspec": {
   "display_name": "Python 3",
   "language": "python",
   "name": "python3"
  },
  "language_info": {
   "codemirror_mode": {
    "name": "ipython",
    "version": 3
   },
   "file_extension": ".py",
   "mimetype": "text/x-python",
   "name": "python",
   "nbconvert_exporter": "python",
   "pygments_lexer": "ipython3",
   "version": "3.6.3"
  }
 },
 "nbformat": 4,
 "nbformat_minor": 2
}
